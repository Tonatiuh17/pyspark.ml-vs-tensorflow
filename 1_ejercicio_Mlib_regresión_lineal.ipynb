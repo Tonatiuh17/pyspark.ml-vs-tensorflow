{
 "cells": [
  {
   "cell_type": "markdown",
   "id": "6de03047",
   "metadata": {},
   "source": [
    "# Datos de crusero, obtener la cantidad de tripulantes necesarios (crew)"
   ]
  },
  {
   "cell_type": "code",
   "execution_count": 1,
   "id": "eea91681",
   "metadata": {},
   "outputs": [],
   "source": [
    "from pyspark.sql import SparkSession\n",
    "spark = SparkSession.builder.appName(\"cruise\").getOrCreate()"
   ]
  },
  {
   "cell_type": "code",
   "execution_count": 2,
   "id": "52953cfc",
   "metadata": {},
   "outputs": [],
   "source": [
    "url = \"C:/Users/solk1/OneDrive/Desktop/Ciencia de datos/Spark_con_python/Python-and-Spark-for-Big-Data-master/Python-and-Spark-for-Big-Data-master/Spark_for_Machine_Learning/Linear_Regression\"\n",
    "data = spark.read.csv(url + \"/cruise_ship_info.csv\", inferSchema = True, header = True)"
   ]
  },
  {
   "cell_type": "code",
   "execution_count": 3,
   "id": "b60d5294",
   "metadata": {},
   "outputs": [
    {
     "name": "stdout",
     "output_type": "stream",
     "text": [
      "+-----------+-----------+---+------------------+----------+------+------+-----------------+----+\n",
      "|  Ship_name|Cruise_line|Age|           Tonnage|passengers|length|cabins|passenger_density|crew|\n",
      "+-----------+-----------+---+------------------+----------+------+------+-----------------+----+\n",
      "|    Journey|    Azamara|  6|30.276999999999997|      6.94|  5.94|  3.55|            42.64|3.55|\n",
      "|      Quest|    Azamara|  6|30.276999999999997|      6.94|  5.94|  3.55|            42.64|3.55|\n",
      "|Celebration|   Carnival| 26|            47.262|     14.86|  7.22|  7.43|             31.8| 6.7|\n",
      "|   Conquest|   Carnival| 11|             110.0|     29.74|  9.53| 14.88|            36.99|19.1|\n",
      "|    Destiny|   Carnival| 17|           101.353|     26.42|  8.92| 13.21|            38.36|10.0|\n",
      "|    Ecstasy|   Carnival| 22|            70.367|     20.52|  8.55|  10.2|            34.29| 9.2|\n",
      "|    Elation|   Carnival| 15|            70.367|     20.52|  8.55|  10.2|            34.29| 9.2|\n",
      "|    Fantasy|   Carnival| 23|            70.367|     20.56|  8.55| 10.22|            34.23| 9.2|\n",
      "|Fascination|   Carnival| 19|            70.367|     20.52|  8.55|  10.2|            34.29| 9.2|\n",
      "|    Freedom|   Carnival|  6|110.23899999999999|      37.0|  9.51| 14.87|            29.79|11.5|\n",
      "|      Glory|   Carnival| 10|             110.0|     29.74|  9.51| 14.87|            36.99|11.6|\n",
      "|    Holiday|   Carnival| 28|            46.052|     14.52|  7.27|  7.26|            31.72| 6.6|\n",
      "|Imagination|   Carnival| 18|            70.367|     20.52|  8.55|  10.2|            34.29| 9.2|\n",
      "|Inspiration|   Carnival| 17|            70.367|     20.52|  8.55|  10.2|            34.29| 9.2|\n",
      "|     Legend|   Carnival| 11|              86.0|     21.24|  9.63| 10.62|            40.49| 9.3|\n",
      "|   Liberty*|   Carnival|  8|             110.0|     29.74|  9.51| 14.87|            36.99|11.6|\n",
      "|    Miracle|   Carnival|  9|              88.5|     21.24|  9.63| 10.62|            41.67|10.3|\n",
      "|   Paradise|   Carnival| 15|            70.367|     20.52|  8.55|  10.2|            34.29| 9.2|\n",
      "|      Pride|   Carnival| 12|              88.5|     21.24|  9.63| 11.62|            41.67| 9.3|\n",
      "|  Sensation|   Carnival| 20|            70.367|     20.52|  8.55|  10.2|            34.29| 9.2|\n",
      "+-----------+-----------+---+------------------+----------+------+------+-----------------+----+\n",
      "only showing top 20 rows\n",
      "\n"
     ]
    }
   ],
   "source": [
    "data.show()"
   ]
  },
  {
   "cell_type": "code",
   "execution_count": 4,
   "id": "308bd814",
   "metadata": {},
   "outputs": [
    {
     "name": "stdout",
     "output_type": "stream",
     "text": [
      "root\n",
      " |-- Ship_name: string (nullable = true)\n",
      " |-- Cruise_line: string (nullable = true)\n",
      " |-- Age: integer (nullable = true)\n",
      " |-- Tonnage: double (nullable = true)\n",
      " |-- passengers: double (nullable = true)\n",
      " |-- length: double (nullable = true)\n",
      " |-- cabins: double (nullable = true)\n",
      " |-- passenger_density: double (nullable = true)\n",
      " |-- crew: double (nullable = true)\n",
      "\n"
     ]
    }
   ],
   "source": [
    "data.printSchema() #Querremos que la columna Cruise_line sea numérica (one hot encoding)"
   ]
  },
  {
   "cell_type": "code",
   "execution_count": 8,
   "id": "277e72ea",
   "metadata": {},
   "outputs": [
    {
     "data": {
      "text/plain": [
       "['Ship_name',\n",
       " 'Cruise_line',\n",
       " 'Age',\n",
       " 'Tonnage',\n",
       " 'passengers',\n",
       " 'length',\n",
       " 'cabins',\n",
       " 'passenger_density',\n",
       " 'crew']"
      ]
     },
     "execution_count": 8,
     "metadata": {},
     "output_type": "execute_result"
    }
   ],
   "source": [
    "data.columns"
   ]
  },
  {
   "cell_type": "code",
   "execution_count": 33,
   "id": "f69da0a9",
   "metadata": {},
   "outputs": [],
   "source": [
    "#Para tener la columna Cruise_line (que es categórica) con valores numéricos:\n",
    "from pyspark.ml.feature import StringIndexer"
   ]
  },
  {
   "cell_type": "code",
   "execution_count": 34,
   "id": "6d4422eb",
   "metadata": {},
   "outputs": [],
   "source": [
    "indexer = StringIndexer(inputCol = \"Cruise_line\", outputCol = \"cruise_cat\")\n",
    "indexed = indexer.fit(data).transform(data)"
   ]
  },
  {
   "cell_type": "code",
   "execution_count": 35,
   "id": "61d485eb",
   "metadata": {},
   "outputs": [
    {
     "name": "stdout",
     "output_type": "stream",
     "text": [
      "+-----------+-----------+---+------------------+----------+------+------+-----------------+----+----------+\n",
      "|  Ship_name|Cruise_line|Age|           Tonnage|passengers|length|cabins|passenger_density|crew|cruise_cat|\n",
      "+-----------+-----------+---+------------------+----------+------+------+-----------------+----+----------+\n",
      "|    Journey|    Azamara|  6|30.276999999999997|      6.94|  5.94|  3.55|            42.64|3.55|      16.0|\n",
      "|      Quest|    Azamara|  6|30.276999999999997|      6.94|  5.94|  3.55|            42.64|3.55|      16.0|\n",
      "|Celebration|   Carnival| 26|            47.262|     14.86|  7.22|  7.43|             31.8| 6.7|       1.0|\n",
      "|   Conquest|   Carnival| 11|             110.0|     29.74|  9.53| 14.88|            36.99|19.1|       1.0|\n",
      "|    Destiny|   Carnival| 17|           101.353|     26.42|  8.92| 13.21|            38.36|10.0|       1.0|\n",
      "|    Ecstasy|   Carnival| 22|            70.367|     20.52|  8.55|  10.2|            34.29| 9.2|       1.0|\n",
      "|    Elation|   Carnival| 15|            70.367|     20.52|  8.55|  10.2|            34.29| 9.2|       1.0|\n",
      "|    Fantasy|   Carnival| 23|            70.367|     20.56|  8.55| 10.22|            34.23| 9.2|       1.0|\n",
      "|Fascination|   Carnival| 19|            70.367|     20.52|  8.55|  10.2|            34.29| 9.2|       1.0|\n",
      "|    Freedom|   Carnival|  6|110.23899999999999|      37.0|  9.51| 14.87|            29.79|11.5|       1.0|\n",
      "|      Glory|   Carnival| 10|             110.0|     29.74|  9.51| 14.87|            36.99|11.6|       1.0|\n",
      "|    Holiday|   Carnival| 28|            46.052|     14.52|  7.27|  7.26|            31.72| 6.6|       1.0|\n",
      "|Imagination|   Carnival| 18|            70.367|     20.52|  8.55|  10.2|            34.29| 9.2|       1.0|\n",
      "|Inspiration|   Carnival| 17|            70.367|     20.52|  8.55|  10.2|            34.29| 9.2|       1.0|\n",
      "|     Legend|   Carnival| 11|              86.0|     21.24|  9.63| 10.62|            40.49| 9.3|       1.0|\n",
      "|   Liberty*|   Carnival|  8|             110.0|     29.74|  9.51| 14.87|            36.99|11.6|       1.0|\n",
      "|    Miracle|   Carnival|  9|              88.5|     21.24|  9.63| 10.62|            41.67|10.3|       1.0|\n",
      "|   Paradise|   Carnival| 15|            70.367|     20.52|  8.55|  10.2|            34.29| 9.2|       1.0|\n",
      "|      Pride|   Carnival| 12|              88.5|     21.24|  9.63| 11.62|            41.67| 9.3|       1.0|\n",
      "|  Sensation|   Carnival| 20|            70.367|     20.52|  8.55|  10.2|            34.29| 9.2|       1.0|\n",
      "+-----------+-----------+---+------------------+----------+------+------+-----------------+----+----------+\n",
      "only showing top 20 rows\n",
      "\n"
     ]
    }
   ],
   "source": [
    "indexed.show() #Listo, ya tenemos la nueva columna con datos numéricos"
   ]
  },
  {
   "cell_type": "code",
   "execution_count": 36,
   "id": "dc581409",
   "metadata": {},
   "outputs": [],
   "source": [
    "data = indexed"
   ]
  },
  {
   "cell_type": "code",
   "execution_count": 37,
   "id": "3b4f36f6",
   "metadata": {},
   "outputs": [],
   "source": [
    "from pyspark.ml.linalg import Vectors\n",
    "from pyspark.ml.feature import VectorAssembler"
   ]
  },
  {
   "cell_type": "code",
   "execution_count": 38,
   "id": "08edeb39",
   "metadata": {},
   "outputs": [],
   "source": [
    "vector = VectorAssembler(inputCols = ['Age',\n",
    "                                     'Tonnage',\n",
    "                                     'passengers',\n",
    "                                     'length',\n",
    "                                     'cabins',\n",
    "                                     'passenger_density',\n",
    "                                     'cruise_cat'],\n",
    "                        outputCol = \"features\")"
   ]
  },
  {
   "cell_type": "code",
   "execution_count": 39,
   "id": "9203d001",
   "metadata": {},
   "outputs": [
    {
     "name": "stdout",
     "output_type": "stream",
     "text": [
      "root\n",
      " |-- Ship_name: string (nullable = true)\n",
      " |-- Cruise_line: string (nullable = true)\n",
      " |-- Age: integer (nullable = true)\n",
      " |-- Tonnage: double (nullable = true)\n",
      " |-- passengers: double (nullable = true)\n",
      " |-- length: double (nullable = true)\n",
      " |-- cabins: double (nullable = true)\n",
      " |-- passenger_density: double (nullable = true)\n",
      " |-- crew: double (nullable = true)\n",
      " |-- cruise_cat: double (nullable = false)\n",
      " |-- features: vector (nullable = true)\n",
      "\n"
     ]
    }
   ],
   "source": [
    "output = vector.transform(data)\n",
    "output.printSchema()"
   ]
  },
  {
   "cell_type": "code",
   "execution_count": 40,
   "id": "9bb99e6c",
   "metadata": {},
   "outputs": [],
   "source": [
    "dataf = output.select(\"features\", \"crew\")"
   ]
  },
  {
   "cell_type": "code",
   "execution_count": 41,
   "id": "f0753ebb",
   "metadata": {},
   "outputs": [],
   "source": [
    "train, test = dataf.randomSplit([0.7, 0.3])"
   ]
  },
  {
   "cell_type": "code",
   "execution_count": 17,
   "id": "e2411818",
   "metadata": {},
   "outputs": [],
   "source": [
    "from pyspark.ml.regression import LinearRegression"
   ]
  },
  {
   "cell_type": "code",
   "execution_count": 42,
   "id": "28caf381",
   "metadata": {},
   "outputs": [],
   "source": [
    "lr = LinearRegression(featuresCol = \"features\", labelCol = \"crew\", predictionCol = \"prediction\")"
   ]
  },
  {
   "cell_type": "code",
   "execution_count": 43,
   "id": "6e251b8e",
   "metadata": {},
   "outputs": [],
   "source": [
    "lr_model = lr.fit(train)"
   ]
  },
  {
   "cell_type": "code",
   "execution_count": 54,
   "id": "7c157571",
   "metadata": {},
   "outputs": [],
   "source": [
    "test_results = lr_model.evaluate(test)"
   ]
  },
  {
   "cell_type": "code",
   "execution_count": 55,
   "id": "add6c711",
   "metadata": {},
   "outputs": [
    {
     "data": {
      "text/plain": [
       "0.7334811152474384"
      ]
     },
     "execution_count": 55,
     "metadata": {},
     "output_type": "execute_result"
    }
   ],
   "source": [
    "#error medio cuadrático, su raíz\n",
    "test_results.rootMeanSquaredError"
   ]
  },
  {
   "cell_type": "code",
   "execution_count": 56,
   "id": "5b58c0f5",
   "metadata": {},
   "outputs": [
    {
     "data": {
      "text/plain": [
       "0.8749879974708343"
      ]
     },
     "execution_count": 56,
     "metadata": {},
     "output_type": "execute_result"
    }
   ],
   "source": [
    "test_restults.r2"
   ]
  },
  {
   "cell_type": "code",
   "execution_count": 57,
   "id": "7387e1d2",
   "metadata": {},
   "outputs": [
    {
     "name": "stdout",
     "output_type": "stream",
     "text": [
      "+-------+-----------------+\n",
      "|summary|             crew|\n",
      "+-------+-----------------+\n",
      "|  count|              158|\n",
      "|   mean|7.794177215189873|\n",
      "| stddev|3.503486564627034|\n",
      "|    min|             0.59|\n",
      "|    max|             21.0|\n",
      "+-------+-----------------+\n",
      "\n"
     ]
    }
   ],
   "source": [
    "dataf.describe().show()"
   ]
  },
  {
   "cell_type": "code",
   "execution_count": 58,
   "id": "4f0e1c1e",
   "metadata": {},
   "outputs": [],
   "source": [
    "datos_sin_label = dataf.select(\"features\")"
   ]
  },
  {
   "cell_type": "code",
   "execution_count": 59,
   "id": "88294f5e",
   "metadata": {},
   "outputs": [],
   "source": [
    "prediccion = lr_model.transform(datos_sin_label)"
   ]
  },
  {
   "cell_type": "code",
   "execution_count": 60,
   "id": "8a92dbaa",
   "metadata": {},
   "outputs": [
    {
     "name": "stdout",
     "output_type": "stream",
     "text": [
      "+--------------------+------------------+\n",
      "|            features|        prediction|\n",
      "+--------------------+------------------+\n",
      "|[6.0,30.276999999...| 4.225395998288252|\n",
      "|[6.0,30.276999999...| 4.225395998288252|\n",
      "|[26.0,47.262,14.8...| 6.417833710265149|\n",
      "|[11.0,110.0,29.74...|12.270510139104319|\n",
      "|[17.0,101.353,26....|10.875882759874086|\n",
      "|[22.0,70.367,20.5...| 8.764667035942464|\n",
      "|[15.0,70.367,20.5...| 8.862817630621478|\n",
      "|[23.0,70.367,20.5...| 8.762870303032068|\n",
      "|[19.0,70.367,20.5...| 8.806731576519185|\n",
      "|[6.0,110.23899999...|11.264694560268778|\n",
      "|[10.0,110.0,29.74...|12.266304662794878|\n",
      "|[28.0,46.052,14.5...| 6.309446432865281|\n",
      "|[18.0,70.367,20.5...| 8.820753090044759|\n",
      "|[17.0,70.367,20.5...| 8.834774603570333|\n",
      "|[11.0,86.0,21.24,...| 9.693466713154208|\n",
      "|[8.0,110.0,29.74,...|12.294347689846026|\n",
      "|[9.0,88.5,21.24,9...| 9.721200451013445|\n",
      "|[15.0,70.367,20.5...| 8.862817630621478|\n",
      "|[12.0,88.5,21.24,...|10.572358923856795|\n",
      "|[20.0,70.367,20.5...| 8.792710062993612|\n",
      "+--------------------+------------------+\n",
      "only showing top 20 rows\n",
      "\n"
     ]
    }
   ],
   "source": [
    "prediccion.show()"
   ]
  },
  {
   "cell_type": "code",
   "execution_count": 52,
   "id": "424abe4a",
   "metadata": {},
   "outputs": [
    {
     "name": "stdout",
     "output_type": "stream",
     "text": [
      "+--------------------+----+\n",
      "|            features|crew|\n",
      "+--------------------+----+\n",
      "|[6.0,30.276999999...|3.55|\n",
      "|[6.0,30.276999999...|3.55|\n",
      "|[26.0,47.262,14.8...| 6.7|\n",
      "|[11.0,110.0,29.74...|19.1|\n",
      "|[17.0,101.353,26....|10.0|\n",
      "|[22.0,70.367,20.5...| 9.2|\n",
      "|[15.0,70.367,20.5...| 9.2|\n",
      "|[23.0,70.367,20.5...| 9.2|\n",
      "|[19.0,70.367,20.5...| 9.2|\n",
      "|[6.0,110.23899999...|11.5|\n",
      "|[10.0,110.0,29.74...|11.6|\n",
      "|[28.0,46.052,14.5...| 6.6|\n",
      "|[18.0,70.367,20.5...| 9.2|\n",
      "|[17.0,70.367,20.5...| 9.2|\n",
      "|[11.0,86.0,21.24,...| 9.3|\n",
      "|[8.0,110.0,29.74,...|11.6|\n",
      "|[9.0,88.5,21.24,9...|10.3|\n",
      "|[15.0,70.367,20.5...| 9.2|\n",
      "|[12.0,88.5,21.24,...| 9.3|\n",
      "|[20.0,70.367,20.5...| 9.2|\n",
      "+--------------------+----+\n",
      "only showing top 20 rows\n",
      "\n"
     ]
    }
   ],
   "source": [
    "dataf.show()"
   ]
  },
  {
   "cell_type": "markdown",
   "id": "9619c6e2",
   "metadata": {},
   "source": [
    "# Ahora, usando tensorflow (ANN)"
   ]
  },
  {
   "cell_type": "code",
   "execution_count": 1,
   "id": "1157736f",
   "metadata": {},
   "outputs": [],
   "source": [
    "import pandas as pd\n",
    "import numpy as np\n",
    "import seaborn as sns"
   ]
  },
  {
   "cell_type": "code",
   "execution_count": 2,
   "id": "5ae85f1d",
   "metadata": {},
   "outputs": [],
   "source": [
    "url = \"C:/Users/solk1/OneDrive/Desktop/Ciencia de datos/Spark_con_python/Python-and-Spark-for-Big-Data-master/Python-and-Spark-for-Big-Data-master/Spark_for_Machine_Learning/Linear_Regression\""
   ]
  },
  {
   "cell_type": "code",
   "execution_count": 3,
   "id": "3cb56e62",
   "metadata": {},
   "outputs": [
    {
     "data": {
      "text/html": [
       "<div>\n",
       "<style scoped>\n",
       "    .dataframe tbody tr th:only-of-type {\n",
       "        vertical-align: middle;\n",
       "    }\n",
       "\n",
       "    .dataframe tbody tr th {\n",
       "        vertical-align: top;\n",
       "    }\n",
       "\n",
       "    .dataframe thead th {\n",
       "        text-align: right;\n",
       "    }\n",
       "</style>\n",
       "<table border=\"1\" class=\"dataframe\">\n",
       "  <thead>\n",
       "    <tr style=\"text-align: right;\">\n",
       "      <th></th>\n",
       "      <th>Ship_name</th>\n",
       "      <th>Cruise_line</th>\n",
       "      <th>Age</th>\n",
       "      <th>Tonnage</th>\n",
       "      <th>passengers</th>\n",
       "      <th>length</th>\n",
       "      <th>cabins</th>\n",
       "      <th>passenger_density</th>\n",
       "      <th>crew</th>\n",
       "    </tr>\n",
       "  </thead>\n",
       "  <tbody>\n",
       "    <tr>\n",
       "      <th>0</th>\n",
       "      <td>Journey</td>\n",
       "      <td>Azamara</td>\n",
       "      <td>6</td>\n",
       "      <td>30.277</td>\n",
       "      <td>6.94</td>\n",
       "      <td>5.94</td>\n",
       "      <td>3.55</td>\n",
       "      <td>42.64</td>\n",
       "      <td>3.55</td>\n",
       "    </tr>\n",
       "    <tr>\n",
       "      <th>1</th>\n",
       "      <td>Quest</td>\n",
       "      <td>Azamara</td>\n",
       "      <td>6</td>\n",
       "      <td>30.277</td>\n",
       "      <td>6.94</td>\n",
       "      <td>5.94</td>\n",
       "      <td>3.55</td>\n",
       "      <td>42.64</td>\n",
       "      <td>3.55</td>\n",
       "    </tr>\n",
       "    <tr>\n",
       "      <th>2</th>\n",
       "      <td>Celebration</td>\n",
       "      <td>Carnival</td>\n",
       "      <td>26</td>\n",
       "      <td>47.262</td>\n",
       "      <td>14.86</td>\n",
       "      <td>7.22</td>\n",
       "      <td>7.43</td>\n",
       "      <td>31.80</td>\n",
       "      <td>6.70</td>\n",
       "    </tr>\n",
       "    <tr>\n",
       "      <th>3</th>\n",
       "      <td>Conquest</td>\n",
       "      <td>Carnival</td>\n",
       "      <td>11</td>\n",
       "      <td>110.000</td>\n",
       "      <td>29.74</td>\n",
       "      <td>9.53</td>\n",
       "      <td>14.88</td>\n",
       "      <td>36.99</td>\n",
       "      <td>19.10</td>\n",
       "    </tr>\n",
       "    <tr>\n",
       "      <th>4</th>\n",
       "      <td>Destiny</td>\n",
       "      <td>Carnival</td>\n",
       "      <td>17</td>\n",
       "      <td>101.353</td>\n",
       "      <td>26.42</td>\n",
       "      <td>8.92</td>\n",
       "      <td>13.21</td>\n",
       "      <td>38.36</td>\n",
       "      <td>10.00</td>\n",
       "    </tr>\n",
       "  </tbody>\n",
       "</table>\n",
       "</div>"
      ],
      "text/plain": [
       "     Ship_name Cruise_line  Age  Tonnage  passengers  length  cabins  \\\n",
       "0      Journey     Azamara    6   30.277        6.94    5.94    3.55   \n",
       "1        Quest     Azamara    6   30.277        6.94    5.94    3.55   \n",
       "2  Celebration    Carnival   26   47.262       14.86    7.22    7.43   \n",
       "3     Conquest    Carnival   11  110.000       29.74    9.53   14.88   \n",
       "4      Destiny    Carnival   17  101.353       26.42    8.92   13.21   \n",
       "\n",
       "   passenger_density   crew  \n",
       "0              42.64   3.55  \n",
       "1              42.64   3.55  \n",
       "2              31.80   6.70  \n",
       "3              36.99  19.10  \n",
       "4              38.36  10.00  "
      ]
     },
     "execution_count": 3,
     "metadata": {},
     "output_type": "execute_result"
    }
   ],
   "source": [
    "data = pd.read_csv(url + \"/cruise_ship_info.csv\")\n",
    "data.head()"
   ]
  },
  {
   "cell_type": "code",
   "execution_count": 20,
   "id": "8d089fe3",
   "metadata": {},
   "outputs": [
    {
     "data": {
      "text/plain": [
       "Ship_name            0\n",
       "Cruise_line          0\n",
       "Age                  0\n",
       "Tonnage              0\n",
       "passengers           0\n",
       "length               0\n",
       "cabins               0\n",
       "passenger_density    0\n",
       "crew                 0\n",
       "dtype: int64"
      ]
     },
     "execution_count": 20,
     "metadata": {},
     "output_type": "execute_result"
    }
   ],
   "source": [
    "data.isnull().sum()"
   ]
  },
  {
   "cell_type": "code",
   "execution_count": 4,
   "id": "9286b528",
   "metadata": {},
   "outputs": [
    {
     "name": "stdout",
     "output_type": "stream",
     "text": [
      "<class 'pandas.core.frame.DataFrame'>\n",
      "RangeIndex: 158 entries, 0 to 157\n",
      "Data columns (total 9 columns):\n",
      " #   Column             Non-Null Count  Dtype  \n",
      "---  ------             --------------  -----  \n",
      " 0   Ship_name          158 non-null    object \n",
      " 1   Cruise_line        158 non-null    object \n",
      " 2   Age                158 non-null    int64  \n",
      " 3   Tonnage            158 non-null    float64\n",
      " 4   passengers         158 non-null    float64\n",
      " 5   length             158 non-null    float64\n",
      " 6   cabins             158 non-null    float64\n",
      " 7   passenger_density  158 non-null    float64\n",
      " 8   crew               158 non-null    float64\n",
      "dtypes: float64(6), int64(1), object(2)\n",
      "memory usage: 11.2+ KB\n"
     ]
    }
   ],
   "source": [
    "data.info()"
   ]
  },
  {
   "cell_type": "code",
   "execution_count": 13,
   "id": "42c257fb",
   "metadata": {},
   "outputs": [],
   "source": [
    "tipos = pd.get_dummies(data[\"Cruise_line\"])  #Hago el onehotencoding para la columna Cruise_line"
   ]
  },
  {
   "cell_type": "code",
   "execution_count": 19,
   "id": "6cca2ee2",
   "metadata": {},
   "outputs": [],
   "source": [
    "#Concateno el dataframe anterior con el original, y de una vez quito las columnas no necesarias\n",
    "dataf = pd.concat([data, tipos], axis = 1).drop([\"Cruise_line\", \"Ship_name\"], axis = 1) "
   ]
  },
  {
   "cell_type": "code",
   "execution_count": 72,
   "id": "a0ddfd04",
   "metadata": {},
   "outputs": [
    {
     "data": {
      "text/plain": [
       "<AxesSubplot:>"
      ]
     },
     "execution_count": 72,
     "metadata": {},
     "output_type": "execute_result"
    },
    {
     "data": {
      "image/png": "[encoded data removed]",
      "text/plain": [
       "<Figure size 640x480 with 1 Axes>"
      ]
     },
     "metadata": {},
     "output_type": "display_data"
    }
   ],
   "source": [
    "dataf.corr()[\"crew\"][:7].sort_values().plot(kind = \"bar\")"
   ]
  },
  {
   "cell_type": "code",
   "execution_count": 21,
   "id": "532f37fe",
   "metadata": {},
   "outputs": [],
   "source": [
    "from siuba import *"
   ]
  },
  {
   "cell_type": "code",
   "execution_count": 22,
   "id": "5abfdd84",
   "metadata": {},
   "outputs": [],
   "source": [
    "x = dataf >> select(-_.crew) #Eligo todas menos la columna de crew\n",
    "y = dataf >> select(_.crew)  #Solo eligo la columna crew"
   ]
  },
  {
   "cell_type": "code",
   "execution_count": 23,
   "id": "be609416",
   "metadata": {},
   "outputs": [],
   "source": [
    "from sklearn.model_selection import train_test_split"
   ]
  },
  {
   "cell_type": "code",
   "execution_count": 24,
   "id": "fb8bc31a",
   "metadata": {},
   "outputs": [],
   "source": [
    "x_train, x_test, y_train, y_test = train_test_split(x, y, test_size = 0.3, random_state = 101)"
   ]
  },
  {
   "cell_type": "code",
   "execution_count": 26,
   "id": "08f6ee16",
   "metadata": {},
   "outputs": [],
   "source": [
    "#Para el escalado:\n",
    "from sklearn.preprocessing import MinMaxScaler\n",
    "scaler = MinMaxScaler()"
   ]
  },
  {
   "cell_type": "code",
   "execution_count": 27,
   "id": "69d0fa4a",
   "metadata": {},
   "outputs": [],
   "source": [
    "x_train = scaler.fit_transform(x_train)\n",
    "x_test = scaler.transform(x_test)"
   ]
  },
  {
   "cell_type": "code",
   "execution_count": 31,
   "id": "8f2e73a8",
   "metadata": {},
   "outputs": [],
   "source": [
    "#Para crear el modelo:\n",
    "import tensorflow as tf\n",
    "from tensorflow.keras.models import Sequential\n",
    "from tensorflow.keras.layers import Dense, Activation, Dropout"
   ]
  },
  {
   "cell_type": "code",
   "execution_count": 29,
   "id": "dfc61e55",
   "metadata": {},
   "outputs": [
    {
     "data": {
      "text/plain": [
       "26"
      ]
     },
     "execution_count": 29,
     "metadata": {},
     "output_type": "execute_result"
    }
   ],
   "source": [
    "x_train.shape[1]"
   ]
  },
  {
   "cell_type": "code",
   "execution_count": 30,
   "id": "0e0d6034",
   "metadata": {},
   "outputs": [],
   "source": [
    "num_neuronas = x_train.shape[1]"
   ]
  },
  {
   "cell_type": "code",
   "execution_count": 73,
   "id": "2cbe503d",
   "metadata": {},
   "outputs": [],
   "source": [
    "modelo = Sequential()\n",
    "\n",
    "modelo.add(Dense(units = num_neuronas, activation = \"relu\"))\n",
    "modelo.add(Dense(units = num_neuronas//2, activation = \"relu\"))\n",
    "\n",
    "modelo.add(Dense(1))\n",
    "\n",
    "modelo.compile(\n",
    "    optimizer = \"adam\",\n",
    "    loss = \"mse\"\n",
    ")"
   ]
  },
  {
   "cell_type": "code",
   "execution_count": 74,
   "id": "e7e97fb5",
   "metadata": {},
   "outputs": [],
   "source": [
    "#Para el entrenamiento:\n",
    "from tensorflow.keras.callbacks import EarlyStopping\n",
    "early_stop = EarlyStopping(monitor = \"val_loss\", patience = 4)"
   ]
  },
  {
   "cell_type": "code",
   "execution_count": 75,
   "id": "0367b0bb",
   "metadata": {},
   "outputs": [
    {
     "data": {
      "text/plain": [
       "<keras.callbacks.History at 0x14c2c27caf0>"
      ]
     },
     "execution_count": 75,
     "metadata": {},
     "output_type": "execute_result"
    }
   ],
   "source": [
    "modelo.fit(\n",
    "    x = x_train,\n",
    "    y = y_train,\n",
    "    epochs = 500,\n",
    "    validation_data = (x_test, y_test),\n",
    "    callbacks = [early_stop],\n",
    "    verbose = False\n",
    ")"
   ]
  },
  {
   "cell_type": "code",
   "execution_count": 76,
   "id": "b358577c",
   "metadata": {},
   "outputs": [
    {
     "data": {
      "text/plain": [
       "<AxesSubplot:>"
      ]
     },
     "execution_count": 76,
     "metadata": {},
     "output_type": "execute_result"
    },
    {
     "data": {
      "image/png": "[encoded data removed]",
      "text/plain": [
       "<Figure size 640x480 with 1 Axes>"
      ]
     },
     "metadata": {},
     "output_type": "display_data"
    }
   ],
   "source": [
    "pd.DataFrame(modelo.history.history).plot()"
   ]
  },
  {
   "cell_type": "code",
   "execution_count": 42,
   "id": "a442d608",
   "metadata": {},
   "outputs": [],
   "source": [
    "from sklearn.metrics import r2_score, mean_squared_error"
   ]
  },
  {
   "cell_type": "code",
   "execution_count": 77,
   "id": "9cd6381b",
   "metadata": {},
   "outputs": [
    {
     "name": "stdout",
     "output_type": "stream",
     "text": [
      "2/2 [==============================] - 0s 2ms/step\n"
     ]
    }
   ],
   "source": [
    "prediccion = modelo.predict(x_test)"
   ]
  },
  {
   "cell_type": "markdown",
   "id": "24b51f63",
   "metadata": {},
   "source": [
    "Veremos en general que los valores de la raíz del error cuadrático medio y del R2 son bastante buenos, considerando la media y la desviación estándar de los datoa de Crew"
   ]
  },
  {
   "cell_type": "code",
   "execution_count": 78,
   "id": "a8710d9e",
   "metadata": {},
   "outputs": [
    {
     "data": {
      "text/plain": [
       "0.8526799425664612"
      ]
     },
     "execution_count": 78,
     "metadata": {},
     "output_type": "execute_result"
    }
   ],
   "source": [
    "np.sqrt(mean_squared_error(prediccion, y_test))"
   ]
  },
  {
   "cell_type": "code",
   "execution_count": 79,
   "id": "67404af0",
   "metadata": {},
   "outputs": [
    {
     "data": {
      "text/plain": [
       "0.93507141646254"
      ]
     },
     "execution_count": 79,
     "metadata": {},
     "output_type": "execute_result"
    }
   ],
   "source": [
    "abs(r2_score(prediccion, y_test))"
   ]
  },
  {
   "cell_type": "code",
   "execution_count": 80,
   "id": "15b7b192",
   "metadata": {},
   "outputs": [
    {
     "data": {
      "text/plain": [
       "count    158.000000\n",
       "mean       7.794177\n",
       "std        3.503487\n",
       "min        0.590000\n",
       "25%        5.480000\n",
       "50%        8.150000\n",
       "75%        9.990000\n",
       "max       21.000000\n",
       "Name: crew, dtype: float64"
      ]
     },
     "execution_count": 80,
     "metadata": {},
     "output_type": "execute_result"
    }
   ],
   "source": [
    "data[\"crew\"].describe()"
   ]
  },
  {
   "cell_type": "markdown",
   "id": "e3321416",
   "metadata": {},
   "source": [
    "Y usando los propios datos del dataframe original"
   ]
  },
  {
   "cell_type": "code",
   "execution_count": 81,
   "id": "a3ee8d11",
   "metadata": {},
   "outputs": [],
   "source": [
    "nuevo_data = data"
   ]
  },
  {
   "cell_type": "code",
   "execution_count": 82,
   "id": "0ccd6b96",
   "metadata": {},
   "outputs": [],
   "source": [
    "x_scaler = scaler.transform(x)"
   ]
  },
  {
   "cell_type": "code",
   "execution_count": 83,
   "id": "cb361bb9",
   "metadata": {},
   "outputs": [
    {
     "name": "stdout",
     "output_type": "stream",
     "text": [
      "5/5 [==============================] - 0s 1ms/step\n"
     ]
    }
   ],
   "source": [
    "prediccion_x = modelo.predict(x_scaler)"
   ]
  },
  {
   "cell_type": "code",
   "execution_count": 84,
   "id": "f78adf03",
   "metadata": {},
   "outputs": [
    {
     "data": {
      "text/html": [
       "<div>\n",
       "<style scoped>\n",
       "    .dataframe tbody tr th:only-of-type {\n",
       "        vertical-align: middle;\n",
       "    }\n",
       "\n",
       "    .dataframe tbody tr th {\n",
       "        vertical-align: top;\n",
       "    }\n",
       "\n",
       "    .dataframe thead th {\n",
       "        text-align: right;\n",
       "    }\n",
       "</style>\n",
       "<table border=\"1\" class=\"dataframe\">\n",
       "  <thead>\n",
       "    <tr style=\"text-align: right;\">\n",
       "      <th></th>\n",
       "      <th>Ship_name</th>\n",
       "      <th>Cruise_line</th>\n",
       "      <th>Age</th>\n",
       "      <th>Tonnage</th>\n",
       "      <th>passengers</th>\n",
       "      <th>length</th>\n",
       "      <th>cabins</th>\n",
       "      <th>passenger_density</th>\n",
       "      <th>crew</th>\n",
       "      <th>Prediccion</th>\n",
       "    </tr>\n",
       "  </thead>\n",
       "  <tbody>\n",
       "    <tr>\n",
       "      <th>0</th>\n",
       "      <td>Journey</td>\n",
       "      <td>Azamara</td>\n",
       "      <td>6</td>\n",
       "      <td>30.277</td>\n",
       "      <td>6.94</td>\n",
       "      <td>5.94</td>\n",
       "      <td>3.55</td>\n",
       "      <td>42.64</td>\n",
       "      <td>3.55</td>\n",
       "      <td>3.503781</td>\n",
       "    </tr>\n",
       "    <tr>\n",
       "      <th>1</th>\n",
       "      <td>Quest</td>\n",
       "      <td>Azamara</td>\n",
       "      <td>6</td>\n",
       "      <td>30.277</td>\n",
       "      <td>6.94</td>\n",
       "      <td>5.94</td>\n",
       "      <td>3.55</td>\n",
       "      <td>42.64</td>\n",
       "      <td>3.55</td>\n",
       "      <td>3.503781</td>\n",
       "    </tr>\n",
       "    <tr>\n",
       "      <th>2</th>\n",
       "      <td>Celebration</td>\n",
       "      <td>Carnival</td>\n",
       "      <td>26</td>\n",
       "      <td>47.262</td>\n",
       "      <td>14.86</td>\n",
       "      <td>7.22</td>\n",
       "      <td>7.43</td>\n",
       "      <td>31.80</td>\n",
       "      <td>6.70</td>\n",
       "      <td>6.666139</td>\n",
       "    </tr>\n",
       "    <tr>\n",
       "      <th>3</th>\n",
       "      <td>Conquest</td>\n",
       "      <td>Carnival</td>\n",
       "      <td>11</td>\n",
       "      <td>110.000</td>\n",
       "      <td>29.74</td>\n",
       "      <td>9.53</td>\n",
       "      <td>14.88</td>\n",
       "      <td>36.99</td>\n",
       "      <td>19.10</td>\n",
       "      <td>12.454665</td>\n",
       "    </tr>\n",
       "    <tr>\n",
       "      <th>4</th>\n",
       "      <td>Destiny</td>\n",
       "      <td>Carnival</td>\n",
       "      <td>17</td>\n",
       "      <td>101.353</td>\n",
       "      <td>26.42</td>\n",
       "      <td>8.92</td>\n",
       "      <td>13.21</td>\n",
       "      <td>38.36</td>\n",
       "      <td>10.00</td>\n",
       "      <td>11.193881</td>\n",
       "    </tr>\n",
       "    <tr>\n",
       "      <th>...</th>\n",
       "      <td>...</td>\n",
       "      <td>...</td>\n",
       "      <td>...</td>\n",
       "      <td>...</td>\n",
       "      <td>...</td>\n",
       "      <td>...</td>\n",
       "      <td>...</td>\n",
       "      <td>...</td>\n",
       "      <td>...</td>\n",
       "      <td>...</td>\n",
       "    </tr>\n",
       "    <tr>\n",
       "      <th>153</th>\n",
       "      <td>Taurus</td>\n",
       "      <td>Star</td>\n",
       "      <td>22</td>\n",
       "      <td>3.341</td>\n",
       "      <td>0.66</td>\n",
       "      <td>2.79</td>\n",
       "      <td>0.33</td>\n",
       "      <td>50.62</td>\n",
       "      <td>0.59</td>\n",
       "      <td>1.698792</td>\n",
       "    </tr>\n",
       "    <tr>\n",
       "      <th>154</th>\n",
       "      <td>Virgo</td>\n",
       "      <td>Star</td>\n",
       "      <td>14</td>\n",
       "      <td>76.800</td>\n",
       "      <td>19.60</td>\n",
       "      <td>8.79</td>\n",
       "      <td>9.67</td>\n",
       "      <td>39.18</td>\n",
       "      <td>12.00</td>\n",
       "      <td>8.857937</td>\n",
       "    </tr>\n",
       "    <tr>\n",
       "      <th>155</th>\n",
       "      <td>Spirit</td>\n",
       "      <td>Windstar</td>\n",
       "      <td>25</td>\n",
       "      <td>5.350</td>\n",
       "      <td>1.58</td>\n",
       "      <td>4.40</td>\n",
       "      <td>0.74</td>\n",
       "      <td>33.86</td>\n",
       "      <td>0.88</td>\n",
       "      <td>0.440492</td>\n",
       "    </tr>\n",
       "    <tr>\n",
       "      <th>156</th>\n",
       "      <td>Star</td>\n",
       "      <td>Windstar</td>\n",
       "      <td>27</td>\n",
       "      <td>5.350</td>\n",
       "      <td>1.67</td>\n",
       "      <td>4.40</td>\n",
       "      <td>0.74</td>\n",
       "      <td>32.04</td>\n",
       "      <td>0.88</td>\n",
       "      <td>0.409544</td>\n",
       "    </tr>\n",
       "    <tr>\n",
       "      <th>157</th>\n",
       "      <td>Surf</td>\n",
       "      <td>Windstar</td>\n",
       "      <td>23</td>\n",
       "      <td>14.745</td>\n",
       "      <td>3.08</td>\n",
       "      <td>6.17</td>\n",
       "      <td>1.56</td>\n",
       "      <td>47.87</td>\n",
       "      <td>1.80</td>\n",
       "      <td>1.696288</td>\n",
       "    </tr>\n",
       "  </tbody>\n",
       "</table>\n",
       "<p>158 rows × 10 columns</p>\n",
       "</div>"
      ],
      "text/plain": [
       "       Ship_name Cruise_line  Age  Tonnage  passengers  length  cabins  \\\n",
       "0        Journey     Azamara    6   30.277        6.94    5.94    3.55   \n",
       "1          Quest     Azamara    6   30.277        6.94    5.94    3.55   \n",
       "2    Celebration    Carnival   26   47.262       14.86    7.22    7.43   \n",
       "3       Conquest    Carnival   11  110.000       29.74    9.53   14.88   \n",
       "4        Destiny    Carnival   17  101.353       26.42    8.92   13.21   \n",
       "..           ...         ...  ...      ...         ...     ...     ...   \n",
       "153       Taurus        Star   22    3.341        0.66    2.79    0.33   \n",
       "154        Virgo        Star   14   76.800       19.60    8.79    9.67   \n",
       "155       Spirit    Windstar   25    5.350        1.58    4.40    0.74   \n",
       "156         Star    Windstar   27    5.350        1.67    4.40    0.74   \n",
       "157         Surf    Windstar   23   14.745        3.08    6.17    1.56   \n",
       "\n",
       "     passenger_density   crew  Prediccion  \n",
       "0                42.64   3.55    3.503781  \n",
       "1                42.64   3.55    3.503781  \n",
       "2                31.80   6.70    6.666139  \n",
       "3                36.99  19.10   12.454665  \n",
       "4                38.36  10.00   11.193881  \n",
       "..                 ...    ...         ...  \n",
       "153              50.62   0.59    1.698792  \n",
       "154              39.18  12.00    8.857937  \n",
       "155              33.86   0.88    0.440492  \n",
       "156              32.04   0.88    0.409544  \n",
       "157              47.87   1.80    1.696288  \n",
       "\n",
       "[158 rows x 10 columns]"
      ]
     },
     "execution_count": 84,
     "metadata": {},
     "output_type": "execute_result"
    }
   ],
   "source": [
    "nuevo_data[\"Prediccion\"] = prediccion_x\n",
    "nuevo_data"
   ]
  },
  {
   "cell_type": "code",
   "execution_count": 86,
   "id": "8f97e3b8",
   "metadata": {},
   "outputs": [],
   "source": [
    "import matplotlib.pyplot as plt"
   ]
  },
  {
   "cell_type": "code",
   "execution_count": 89,
   "id": "57a83c71",
   "metadata": {},
   "outputs": [
    {
     "data": {
      "image/png": "[encoded data removed]",
      "text/plain": [
       "<Figure size 640x480 with 1 Axes>"
      ]
     },
     "metadata": {},
     "output_type": "display_data"
    }
   ],
   "source": [
    "plt.scatter(x = nuevo_data[\"Prediccion\"], y = nuevo_data[\"crew\"])\n",
    "plt.plot(nuevo_data[\"Prediccion\"], nuevo_data[\"Prediccion\"], label = \"valores reales\", color = \"r\")\n",
    "plt.title(\"Predicción vs Datos reales (Crew)\")\n",
    "plt.legend()\n",
    "plt.show()"
   ]
  }
 ],
 "metadata": {
  "kernelspec": {
   "display_name": "Python 3 (ipykernel)",
   "language": "python",
   "name": "python3"
  },
  "language_info": {
   "codemirror_mode": {
    "name": "ipython",
    "version": 3
   },
   "file_extension": ".py",
   "mimetype": "text/x-python",
   "name": "python",
   "nbconvert_exporter": "python",
   "pygments_lexer": "ipython3",
   "version": "3.9.13"
  }
 },
 "nbformat": 4,
 "nbformat_minor": 5
}
